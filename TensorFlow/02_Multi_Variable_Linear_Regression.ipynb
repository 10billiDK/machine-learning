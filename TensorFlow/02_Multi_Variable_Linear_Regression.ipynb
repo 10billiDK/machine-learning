{
 "cells": [
  {
   "cell_type": "code",
   "execution_count": 2,
   "metadata": {},
   "outputs": [],
   "source": [
    "import tensorflow as tf"
   ]
  },
  {
   "cell_type": "code",
   "execution_count": 12,
   "metadata": {},
   "outputs": [],
   "source": [
    "x1_data = [73., 93., 89., 96., 73.]\n",
    "x2_data = [80., 88., 91., 98., 66.]\n",
    "x3_data = [75., 93., 90., 100., 70.]\n",
    "\n",
    "y_data = [152., 185., 180., 196., 142.]"
   ]
  },
  {
   "cell_type": "code",
   "execution_count": 4,
   "metadata": {},
   "outputs": [],
   "source": [
    "x1 = tf.placeholder(tf.float32)\n",
    "x2 = tf.placeholder(tf.float32)\n",
    "x3 = tf.placeholder(tf.float32)"
   ]
  },
  {
   "cell_type": "code",
   "execution_count": 5,
   "metadata": {},
   "outputs": [],
   "source": [
    "Y = tf.placeholder(tf.float32)"
   ]
  },
  {
   "cell_type": "code",
   "execution_count": 6,
   "metadata": {},
   "outputs": [],
   "source": [
    "w1 = tf.Variable(tf.random_normal([1]), tf.float32, name='w1')\n",
    "w2 = tf.Variable(tf.random_normal([1]), tf.float32, name='w2')\n",
    "w3 = tf.Variable(tf.random_normal([1]), tf.float32, name='w3')"
   ]
  },
  {
   "cell_type": "code",
   "execution_count": 21,
   "metadata": {},
   "outputs": [],
   "source": [
    "b = tf.Variable(tf.random_normal([1]), tf.float32, name='b')"
   ]
  },
  {
   "cell_type": "code",
   "execution_count": 22,
   "metadata": {},
   "outputs": [],
   "source": [
    "hypothesis = w1 * x1 + w2 * x2 + w3 * x3 + b"
   ]
  },
  {
   "cell_type": "code",
   "execution_count": 23,
   "metadata": {},
   "outputs": [],
   "source": [
    "cost = tf.reduce_mean(tf.square(hypothesis - Y))"
   ]
  },
  {
   "cell_type": "code",
   "execution_count": 31,
   "metadata": {},
   "outputs": [],
   "source": [
    "optimizer = tf.train.GradientDescentOptimizer(learning_rate=1e)"
   ]
  },
  {
   "cell_type": "code",
   "execution_count": 32,
   "metadata": {},
   "outputs": [],
   "source": [
    "train = optimizer.minimize(cost)"
   ]
  },
  {
   "cell_type": "code",
   "execution_count": 33,
   "metadata": {},
   "outputs": [
    {
     "name": "stdout",
     "output_type": "stream",
     "text": [
      "7664.603 [235.00136 273.7259  274.3233  298.3281  206.75789]\n",
      "19.25246 [157.25317 180.59937 182.39735 198.23946 135.79207]\n",
      "18.259838 [157.08781 180.71298 182.34702 198.20053 135.94327]\n",
      "17.319452 [156.9269  180.82355 182.298   198.1626  136.09047]\n",
      "16.42873 [156.77034 180.93115 182.25038 198.12567 136.23378]\n",
      "15.584833 [156.61795 181.03586 182.20398 198.08963 136.37326]\n",
      "14.785436 [156.4697  181.13776 182.15887 198.05453 136.50908]\n",
      "14.028191 [156.32544 181.23691 182.115   198.02032 136.6413 ]\n",
      "13.310783 [156.18504 181.3334  182.07228 197.98697 136.76999]\n",
      "12.631163 [156.04842 181.42729 182.03075 197.95447 136.8953 ]\n",
      "11.9873295 [155.9155  181.51869 181.99033 197.92278 137.01727]\n",
      "11.377432 [155.78613 181.60759 181.951   197.8919  137.13603]\n",
      "10.799662 [155.66026 181.6941  181.91275 197.86179 137.25163]\n",
      "10.252287 [155.53781 181.77834 181.87553 197.83246 137.3642 ]\n",
      "9.733718 [155.41864 181.86029 181.83934 197.80386 137.47379]\n",
      "9.242472 [155.30266 181.93999 181.8041  197.77592 137.58044]\n",
      "8.777085 [155.18983 182.01761 181.76985 197.74876 137.68431]\n",
      "8.336168 [155.08005 182.09311 181.7365  197.72224 137.78543]\n",
      "7.918466 [154.97322 182.1666  181.70407 197.69641 137.88388]\n",
      "7.5227256 [154.86926 182.23808 181.67252 197.67117 137.97972]\n"
     ]
    }
   ],
   "source": [
    "with tf.Session() as sess:\n",
    "    sess.run(tf.global_variables_initializer())\n",
    "    for epoch in range(2000):\n",
    "        _, _cost, _predict = sess.run([train, cost, hypothesis], feed_dict={x1:x1_data, x2:x2_data, x3:x3_data, Y:y_data})\n",
    "        if epoch % 100 == 0:\n",
    "            print(_cost, _predict)"
   ]
  },
  {
   "cell_type": "code",
   "execution_count": null,
   "metadata": {},
   "outputs": [],
   "source": []
  }
 ],
 "metadata": {
  "kernelspec": {
   "display_name": "Python 3",
   "language": "python",
   "name": "python3"
  },
  "language_info": {
   "codemirror_mode": {
    "name": "ipython",
    "version": 3
   },
   "file_extension": ".py",
   "mimetype": "text/x-python",
   "name": "python",
   "nbconvert_exporter": "python",
   "pygments_lexer": "ipython3",
   "version": "3.6.3"
  }
 },
 "nbformat": 4,
 "nbformat_minor": 2
}
